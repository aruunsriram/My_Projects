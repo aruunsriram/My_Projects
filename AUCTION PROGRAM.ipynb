{
 "cells": [
  {
   "cell_type": "code",
   "execution_count": 1,
   "metadata": {},
   "outputs": [
    {
     "name": "stdout",
     "output_type": "stream",
     "text": [
      "Warning: error initializing database. Replit DB is not configured.\n",
      "\n",
      "                         ___________\n",
      "                         \\         /\n",
      "                          )_______(\n",
      "                          |\"\"\"\"\"\"\"|_.-._,.---------.,_.-._\n",
      "                          |       | | |               | | ''-.\n",
      "                          |       |_| |_             _| |_..-'\n",
      "                          |_______| '-' `'---------'` '-'\n",
      "                          )\"\"\"\"\"\"\"(\n",
      "                         /_________\\\n",
      "                       .-------------.\n",
      "                      /_______________\\\n",
      "\n",
      "\u001b[H\u001b[2JThe winner is rohit with a bid of $7845\n"
     ]
    }
   ],
   "source": [
    "from replit import clear\n",
    "from pic import logo \n",
    "print(logo)\n",
    "#HINT: You can call clear() to clear the output in the console.\n",
    "\n",
    "bids = {}\n",
    "bidding_finished = False\n",
    "\n",
    "def find_highest_bidder(bidding_record):\n",
    "  highest_bid = 0\n",
    "  winner = \"\"\n",
    "  # bidding_record = (\"Aruun\": 123, \"Rohit\": 454)\n",
    "  for bidder in bidding_record:\n",
    "   bid_amount = bidding_record[bidder]\n",
    "   if bid_amount  > highest_bid:\n",
    "      highest_bid = bid_amount\n",
    "      winner = bidder\n",
    "  print(f\"The winner is {winner} with a bid of ${highest_bid}\")\n",
    "while not bidding_finished:\n",
    "  name = input(\"What's your name?: \")\n",
    "  price = int(input(\"What's your bid?: $\"))\n",
    "  bids[name] = price\n",
    "  should_continue = input(\"Are they any other biddeds? Type 'yes' or 'no'. \")\n",
    "  if should_continue == \"no\":\n",
    "    bidding_finished = True\n",
    "    find_highest_bidder(bids)\n",
    "  elif should_continue == \"yes\":\n",
    "    clear()\n",
    "\n"
   ]
  }
 ],
 "metadata": {
  "kernelspec": {
   "display_name": "Python 3",
   "language": "python",
   "name": "python3"
  },
  "language_info": {
   "codemirror_mode": {
    "name": "ipython",
    "version": 3
   },
   "file_extension": ".py",
   "mimetype": "text/x-python",
   "name": "python",
   "nbconvert_exporter": "python",
   "pygments_lexer": "ipython3",
   "version": "3.11.4"
  },
  "orig_nbformat": 4
 },
 "nbformat": 4,
 "nbformat_minor": 2
}
